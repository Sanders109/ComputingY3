{
 "cells": [
  {
   "cell_type": "markdown",
   "metadata": {},
   "source": [
    "### 3(a)\n",
    "\n",
    "To intergrate the integral \n",
    "$$\\begin{equation}\n",
    "\\int_{0}^{2} e^{-x}sin(x) dx \n",
    "\\end{equation}$$\n",
    "First is to integrate by parts using $u=e^{-x}$ and $v'=sin(x)$\n",
    "$$\\begin{equation}\n",
    "\\int_{}^{} udv = uv - \\int_{}^{} vdu\n",
    "\\end{equation}$$\n",
    "$$\\begin{equation}\n",
    "I(x) = -e^{-x}cos(x) - (e^{-x}sin(x) - (-\\int_{}^{} e^{-x}sin(x)) dx)\n",
    "\\end{equation}$$\n",
    "as\n",
    "$$\\begin{equation}\n",
    "\\int_{}^{} e^{-x}sin(x) dx = -e^{-x}cos(x) - (e^{-x}sin(x) - (- \\int_{}^{} e^{-x}sin(x)) dx)\n",
    "\\end{equation}$$\n",
    "we can use sumbsitution to solve this $\\int_{}^{} e^{-x}sin(x) dx = u$\n",
    "$$\\begin{equation}\n",
    "u = -e^{-x}cos(x) - (e^{-x}sin(x) - (- u)\n",
    "\\end{equation}$$\n",
    "Reaulting in a solution of \n",
    "$$\\begin{equation}\n",
    "I(x) = \\frac{-e^{-x}cos(x)}{2} - \\frac{e^{-x}sin(x)}{2} + C \n",
    "\\end{equation}$$\n",
    " Which results in $ \\int_{0}^{2} e^{-x}sin(x) dx = 0.4666296625931756 $"
   ]
  },
  {
   "cell_type": "markdown",
   "metadata": {},
   "source": [
    "### 3(b)\n",
    "\n",
    "In this section i have produced a graph of the equation"
   ]
  },
  {
   "cell_type": "code",
   "execution_count": 2,
   "metadata": {},
   "outputs": [
    {
     "data": {
      "image/png": "[encoded data removed]",
      "text/plain": [
       "<Figure size 432x288 with 1 Axes>"
      ]
     },
     "metadata": {
      "needs_background": "light"
     },
     "output_type": "display_data"
    }
   ],
   "source": [
    "import numpy as np\n",
    "import matplotlib.pyplot as plt\n",
    "from astropy.table import Table, Column\n",
    "\n",
    "def f(x): return np.exp(-x)*np.sin(x)\n",
    "\n",
    "x = np.linspace(0,np.pi)\n",
    "\n",
    "plt.plot(x,f(x))\n",
    "plt.title(\"Plot of $e^{-x}sin(x)$\")\n",
    "plt.show()"
   ]
  },
  {
   "cell_type": "markdown",
   "metadata": {},
   "source": [
    "## 3(c)\n",
    "\n",
    "This section was to produce a program that estimated the above integral. In this section i have produced two sets of code. One which is based on the equation given on the worksheet found in 3(c).1 and another found in 3(c).2, sourced from revision maths."
   ]
  },
  {
   "cell_type": "markdown",
   "metadata": {},
   "source": [
    "   ### 3(c).1\n",
    "   \n",
    "To calculate the approximate area i used the following equation from Mathworld (Pacheco, 2019) :\n",
    "$$\\begin{equation}\n",
    "\\int_{a}^{b} f(x) dx \\approx \\frac{h}{2} (x_{i}+x_{i+1})\n",
    "\\end{equation}$$"
   ]
  },
  {
   "cell_type": "code",
   "execution_count": 11,
   "metadata": {},
   "outputs": [
    {
     "name": "stdout",
     "output_type": "stream",
     "text": [
      "intervals  Value of integrals\n",
      "--------- -------------------\n",
      "        1 0.12306002480577674\n",
      "       10  0.4627025557980615\n",
      "      100  0.4665903503621411\n",
      "     1000  0.4666292694667584\n",
      "    10000  0.4666296586619121\n",
      "   100000 0.46662966255386484\n",
      "  1000000  0.4666296625927708\n",
      " 10000000  0.4666296625931251\n",
      "100000000 0.46662966259318084\n"
     ]
    }
   ],
   "source": [
    "def f(x): return np.exp(-x)*np.sin(x)\n",
    "\n",
    "\n",
    "def Trzm(x0, xn, nmax, f):\n",
    "    table = []\n",
    "    intrange = [10**i for i in range(9)]\n",
    "    for n in intrange:\n",
    "        area = 0\n",
    "        h = (xn-x0)/n\n",
    "        x = np.linspace(x0, xn, n+1, endpoint=True)\n",
    "        for i in range(len(x)-1):\n",
    "            a = h/2*(f(x[i])+f(x[i+1]))\n",
    "            area += a\n",
    "        \n",
    "        table.append([n,area])\n",
    "    \n",
    "    return(table)\n",
    "t = Table(rows= Trzm(0, 2, 10, f), names=('intervals', 'Value of integrals'))\n",
    "    \n",
    "print(t)\n",
    "\n",
    "data =  [[1, 0.12306002480577674],\n",
    "       [10,  0.4627025557980615],\n",
    "      [100,  0.4665903503621411],\n",
    "     [1000,  0.4666292694667584],\n",
    "    [10000,  0.4666296586619121],\n",
    "   [100000, 0.46662966255386484],\n",
    "  [1000000,  0.4666296625927708],\n",
    " [10000000,  0.4666296625931251],\n",
    "[100000000, 0.46662966259318084]]\n"
   ]
  },
  {
   "cell_type": "markdown",
   "metadata": {},
   "source": [
    "The cell of code above takes approximatly 8.5 minutes to calculate intervals up to $10^8$. To increase the amount of intervals by another power again would take 10x longer."
   ]
  },
  {
   "cell_type": "markdown",
   "metadata": {},
   "source": [
    "### 3(c).2\n",
    "\n",
    "Below is the code for the equation found on revison maths (Revisionmaths.com, 2019) which was found to be much faser than the previous code using the equation : \n",
    "\n",
    "$$\\begin{equation}\n",
    "\\int_{a}^{b} f(x) dx \\approx \\frac{h}{2} (y_{0}+y_{n}+2(y_{1}+y_{2}+y_{n-1}))\n",
    "\\end{equation}$$\n"
   ]
  },
  {
   "cell_type": "code",
   "execution_count": 4,
   "metadata": {},
   "outputs": [
    {
     "name": "stdout",
     "output_type": "stream",
     "text": [
      "intervals  Value of integrals\n",
      "--------- -------------------\n",
      "        1 0.12306002480577674\n",
      "       10 0.46270255579806147\n",
      "      100 0.46659035036214086\n",
      "     1000  0.4666292694667588\n",
      "    10000  0.4666296586619109\n",
      "   100000 0.46662966255386307\n",
      "  1000000  0.4666296625927824\n",
      " 10000000   0.466629662593172\n",
      "100000000  0.4666296625931729\n"
     ]
    }
   ],
   "source": [
    "def f(x): return np.exp(-x)*np.sin(x)\n",
    "\n",
    "\n",
    "def Trzm_fast(x0, xn, nmax, f):\n",
    "    table = []\n",
    "    intrange = [10**i for i in range(9)]\n",
    "    for n in intrange:\n",
    "        h = (xn-x0)/n\n",
    "        x = np.linspace(x0, xn, n+1, endpoint=True)\n",
    "        s = 0\n",
    "        sarray = f(x)\n",
    "        out = sarray[::len(sarray)-1]\n",
    "        array = sarray[1:-1]\n",
    "        s0 = np.sum(out)\n",
    "        s = np.sum(array)\n",
    "        a = (h/2.0)*(s0+2*s)\n",
    "        table.append([n,a])\n",
    "        \n",
    "    \n",
    "    return(table)\n",
    "t = Table(rows= Trzm_fast(0, 2, 10, f), names=('intervals', 'Value of integrals'))\n",
    "    # 0.5*h*(y1+yn*2*(y2+....+yn-1))\n",
    "print(t)\n",
    "\n",
    "fdata=  [[1, 0.12306002480577674],\n",
    "        [10, 0.46270255579806147],\n",
    "       [100, 0.46659035036214086],\n",
    "      [1000,  0.4666292694667587],\n",
    "     [10000,  0.4666296586619118],\n",
    "    [100000,  0.4666296625538608],\n",
    "   [1000000,  0.4666296625927925],\n",
    "  [10000000,  0.4666296625931384],\n",
    " [100000000,   0.466629662592974],\n",
    "[1000000000,  0.4666296625928447]]"
   ]
  },
  {
   "cell_type": "markdown",
   "metadata": {},
   "source": [
    "This \"faster\" piece of code takes around 3 seconds to complete. Howerver there are a number of downsides, due to the sliceing and number of varibles used this takes a lot of memory to run compared to the previous set of code. There is one problem in that it breaks down after $10^7$ which you will see in the next section compared to the slower piece of code."
   ]
  },
  {
   "cell_type": "markdown",
   "metadata": {},
   "source": [
    "## 3(d)\n",
    "\n",
    "In this section you will see the plots of $log_{10}$ intervals against $log_{10}$ error. The error was calculated with the analytical value found in 3(a) and the data found in 3(c) : \n",
    "$$\\begin{equation}\n",
    "\\xi = \\mid{\\frac{I(x)-A(x)}{I(x)}}\\mid\n",
    "\\end{equation}$$\n",
    "\n",
    "Where  I(x) is the analytical integral value and A(x) being the approximation\n"
   ]
  },
  {
   "cell_type": "markdown",
   "metadata": {},
   "source": [
    "### 3(d).1"
   ]
  },
  {
   "cell_type": "code",
   "execution_count": 14,
   "metadata": {},
   "outputs": [
    {
     "data": {
      "image/png": "[encoded data removed]",
      "text/plain": [
       "<Figure size 432x288 with 1 Axes>"
      ]
     },
     "metadata": {
      "needs_background": "light"
     },
     "output_type": "display_data"
    }
   ],
   "source": [
    "analytical = 0.4666296625931756\n",
    "xlog_data = []\n",
    "ylog_data = []\n",
    "for i in range(len(data)):\n",
    "    xdata = np.abs((analytical-data[i][1])/analytical)\n",
    "    ydata = data[i][0]\n",
    "    xlog_data.append(np.log10(xdata))\n",
    "    ylog_data.append(np.log10(ydata))\n",
    "\n",
    "plt.plot(xlog_data,ylog_data)\n",
    "plt.title(\"Plot of $log_{10}(interval)$ against $log_{10}(error)$ using Trapezium method\")\n",
    "plt.show()"
   ]
  },
  {
   "cell_type": "markdown",
   "metadata": {},
   "source": [
    "The analytical error equtaion for trapezium method was found on mathematical python (Math.ubc.ca-Trapizoid, 2019)and is as follows:\n",
    "$$\\begin{equation}\n",
    "\\xi \\leqslant {\\frac{(b-a)^3}{12N^2}}f^2(x)\n",
    "\\end{equation}$$\n",
    "Where $f^2$ is the second derivative of f(x)"
   ]
  },
  {
   "cell_type": "markdown",
   "metadata": {},
   "source": [
    "### 3(d).2"
   ]
  },
  {
   "cell_type": "code",
   "execution_count": 15,
   "metadata": {},
   "outputs": [
    {
     "data": {
      "image/png": "[encoded data removed]",
      "text/plain": [
       "<Figure size 432x288 with 1 Axes>"
      ]
     },
     "metadata": {
      "needs_background": "light"
     },
     "output_type": "display_data"
    }
   ],
   "source": [
    "analytical = 0.4666296625931756\n",
    "fxlog_data = []\n",
    "fylog_data = []\n",
    "for i in range(len(fdata)):\n",
    "    fxdata = np.abs((analytical-fdata[i][1])/analytical)\n",
    "    fydata = fdata[i][0]\n",
    "    fxlog_data.append(np.log10(fxdata))\n",
    "    fylog_data.append(np.log10(fydata))\n",
    "\n",
    "plt.plot(fxlog_data,fylog_data)\n",
    "plt.title(\"Plot of $log_{10}(interval)$ against $log_{10}(error)$ using Trapezium method\")\n",
    "plt.show()"
   ]
  },
  {
   "cell_type": "markdown",
   "metadata": {},
   "source": [
    "### 3(f)\n",
    "\n",
    "$$\\begin{equation}\n",
    "\\int_{a}^{b} f(x) dx \\approx \\frac{h}{3} \\sum_{i=1}^{N/2}( f(x_{2i-2}) + 4 f(x_{2i-1}) + f(x_{2i})\n",
    "\\end{equation}$$"
   ]
  },
  {
   "cell_type": "code",
   "execution_count": 26,
   "metadata": {},
   "outputs": [
    {
     "name": "stdout",
     "output_type": "stream",
     "text": [
      "intervals Value of integrals\n",
      "--------- ------------------\n",
      "        1                0.0\n",
      "       10 0.4026905351753986\n",
      "      100 0.4637897394555032\n",
      "     1000 0.4663798110498277\n"
     ]
    }
   ],
   "source": [
    "def Simp(x0, xn, sf, f):\n",
    "    table = []\n",
    "    intrange = [10**i for i in range(4)]\n",
    "    for n in intrange:\n",
    "        area = 0\n",
    "        h = (xn-x0)/n\n",
    "        x = np.linspace(x0, xn, n+1, endpoint=True)\n",
    "        for i in range(int((len(x)-1)/2)):\n",
    "            a = h/3*(f(x[2*i-2])+4*f(x[2*i-4])+f(x[2*i]))\n",
    "            area += a\n",
    "        sfarea = round(area,sf)\n",
    "        table.append([n,sfarea])\n",
    "    \n",
    "    return(table)\n",
    "t = Table(rows= Simp(0, 2, 16, f), names=('intervals', 'Value of integrals'))\n",
    "print(t)\n",
    "\n",
    "sdata = [[ 1,                0.0],\n",
    "       [10, 0.4026905351753986],\n",
    "      [100, 0.4637897394555032],\n",
    "     [1000, 0.4663798110498277],\n",
    "    [10000, 0.4666050133311767],\n",
    "   [100000, 0.4666272010201683],\n",
    "  [1000000, 0.4666294164693797],\n",
    " [10000000, 0.4666296379811681],\n",
    "[100000000, 0.4666296601319549]]\n"
   ]
  },
  {
   "cell_type": "markdown",
   "metadata": {},
   "source": [
    "### 3(g)"
   ]
  },
  {
   "cell_type": "code",
   "execution_count": 27,
   "metadata": {
    "scrolled": true
   },
   "outputs": [
    {
     "data": {
      "image/png": "[encoded data removed]",
      "text/plain": [
       "<Figure size 432x288 with 1 Axes>"
      ]
     },
     "metadata": {
      "needs_background": "light"
     },
     "output_type": "display_data"
    }
   ],
   "source": [
    "analytical = 0.4666296625931756\n",
    "xslog_data = []\n",
    "yslog_data = []\n",
    "for i in range(len(sdata)-1):\n",
    "    xsdata = np.abs((analytical-sdata[i][1])/analytical)\n",
    "    ysdata = data[i][0]\n",
    "    xslog_data.append(np.log10(xsdata))\n",
    "    yslog_data.append(np.log10(ysdata))\n",
    "\n",
    "plt.plot(xslog_data,yslog_data)\n",
    "plt.title(\"Plot of $log_{10}(interval)$ against $log_{10}(error)$ using Simpsons method \")\n",
    "plt.show()"
   ]
  },
  {
   "cell_type": "markdown",
   "metadata": {},
   "source": [
    "The analytical error equtaion for simpsons method was found on mathematical python (Math.ubc.ca-Simpsons, 2019) and is as follows:\n",
    "$$\\begin{equation}\n",
    "\\xi \\leqslant {\\frac{(b-a)^5}{180N^4}}f^4(x)\n",
    "\\end{equation}$$\n",
    "Where $f^4$ is the fourth derivative of f(x)"
   ]
  },
  {
   "cell_type": "markdown",
   "metadata": {},
   "source": [
    "## References\n",
    "\n",
    "Pacheco, P. (2019). Chapter 3 - Distributed-Memory Programming with MPI. An Introduction to Parallel Programming. [online] Morgan Kaufmann, pp.83-149. Available at: https://doi.org/10.1016/B978-0-12-374260-5.00003-8. [Accessed 18 Nov. 2019].\n",
    "\n",
    "Revisionmaths.com. (2019). The Trapezium Rule – Mathematics A-Level Revision. [online] Available at: https://revisionmaths.com/advanced-level-maths-revision/pure-maths/calculus/trapezium-rule [Accessed 18 Nov. 2019].\n",
    "\n",
    "Math.ubc.ca. (2019). Trapezoid Rule - Mathematical Python. [online] Available at: https://www.math.ubc.ca/~pwalls/math-python/integration/trapezoid-rule/ [Accessed 18 Nov. 2019].\n",
    "\n",
    "Math.ubc.ca. (2019). Simpson's Rule - Mathematical Python. [online] Available at: https://www.math.ubc.ca/~pwalls/math-python/integration/simpsons-rule/ [Accessed 18 Nov. 2019].\n"
   ]
  }
 ],
 "metadata": {
  "kernelspec": {
   "display_name": "Python 3",
   "language": "python",
   "name": "python3"
  },
  "language_info": {
   "codemirror_mode": {
    "name": "ipython",
    "version": 3
   },
   "file_extension": ".py",
   "mimetype": "text/x-python",
   "name": "python",
   "nbconvert_exporter": "python",
   "pygments_lexer": "ipython3",
   "version": "3.7.0"
  }
 },
 "nbformat": 4,
 "nbformat_minor": 2
}
